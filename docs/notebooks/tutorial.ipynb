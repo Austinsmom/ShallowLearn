{
 "cells": [
  {
   "cell_type": "markdown",
   "metadata": {},
   "source": [
    "ShallowLearn is a small collection of algorithms for supervised learning, which expose the same interface of the classification models in Scikit-learn. The idea started with the publication of fastText, a library that, among other models, implements a text classification algorithm with an approach based on the popular word2vec. The supervised learnig model is practically a simple neaural network very close to the CBOW model of word2vec, but instead of computing only word representations, it also calculates label prepresentations, according to their relations to the words of text document classified with these labels.\n",
    "A tutorial is also available https://github.com/facebookresearch/fastText/blob/master/tutorials/supervised-learning.md , **here I am going to reproduce the same tutorial and describe some further features of fastText in ShallowLearn**.\n",
    "In ShallowLearn the fastText algorithm is reimplemented in the model GensimFastText, which is a Python + Cython implementation, mainly based on the word2vec code in Gensim, that is very robust and performant (see https://rare-technologies.com/word2vec-tutorial/). The resulting code is still very efficient, but it also drops some limits of the original fastText, and it is usable in Scikit-learn."
   ]
  },
  {
   "cell_type": "markdown",
   "metadata": {},
   "source": [
    "install see readme\n",
    "As in the above mentioned tutorial, for testing fgensimfat text need data taken from, first download and split in training and validation"
   ]
  },
  {
   "cell_type": "code",
   "execution_count": null,
   "metadata": {
    "collapsed": true
   },
   "outputs": [],
   "source": [
    "import urllib, tempfile\n",
    "remote_file = urllib.URLopener()\n",
    "temp_file = tempfile.NamedTemporaryFile()\n",
    "remote_file.retrieve('https://s3-us-west-1.amazonaws.com/fasttext-vectors/cooking.stackexchange.tar.gz', temp_file.name)\n",
    "#TODO use islice for dataset splitting"
   ]
  },
  {
   "cell_type": "markdown",
   "metadata": {},
   "source": [
    "pre-trained vectors maybe dont improve accuracy, but fastText may converge faster"
   ]
  },
  {
   "cell_type": "markdown",
   "metadata": {},
   "source": [
    "Further readings\n",
    "PR on Gensim https://github.com/RaRe-Technologies/gensim/pull/1153"
   ]
  }
 ],
 "metadata": {
  "kernelspec": {
   "display_name": "Python 3",
   "language": "python",
   "name": "python3"
  },
  "language_info": {
   "codemirror_mode": {
    "name": "ipython",
    "version": 3
   },
   "file_extension": ".py",
   "mimetype": "text/x-python",
   "name": "python",
   "nbconvert_exporter": "python",
   "pygments_lexer": "ipython3",
   "version": "3.6.2"
  }
 },
 "nbformat": 4,
 "nbformat_minor": 2
}
